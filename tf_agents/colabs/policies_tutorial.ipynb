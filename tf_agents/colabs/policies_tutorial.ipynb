{
  "cells": [
    {
      "cell_type": "markdown",
      "metadata": {
        "colab_type": "toc",
        "id": "mUHRhoorI-Yc"
      },
      "source": [
        "\u003e[Set Up](#scrollTo=f5926O3VkG_p)\n",
        "\n",
        "\u003e\u003e[Launch the colab binary](#scrollTo=f5926O3VkG_p)\n",
        "\n",
        "\u003e\u003e[Imports](#scrollTo=f5926O3VkG_p)\n",
        "\n",
        "\u003e[Introduction](#scrollTo=31uij8nIo5bG)\n",
        "\n",
        "\u003e[Python Policies](#scrollTo=NyXO5-Aalb-6)\n",
        "\n",
        "\u003e\u003e[Example 1: Random Python Policy](#scrollTo=YCH1Hs_WlmDT)\n",
        "\n",
        "\u003e\u003e[Example 2: Scripted Python Policy](#scrollTo=B8WrFOR1lz31)\n",
        "\n",
        "\u003e[TensorFlow Policies](#scrollTo=3Dz7HSTZl6aU)\n",
        "\n",
        "\u003e\u003e[Example 1: Random TF Policy](#scrollTo=3x8pDWEFrQ5C)\n",
        "\n",
        "\u003e\u003e[Example 2: Actor Policy](#scrollTo=GOBoWETprWCB)\n",
        "\n",
        "\u003e\u003e\u003e[Using an action network](#scrollTo=2S94E5zQgge_)\n",
        "\n",
        "\u003e\u003e\u003e[Using an action distribution network](#scrollTo=_eNrJ5gKgl3W)\n",
        "\n",
        "\u003e\u003e[Example 3: Q Policy](#scrollTo=4Xxzo2a7rZ7v)\n",
        "\n",
        "\u003e[Policy Wrappers](#scrollTo=Xpu9m6mvqJY-)\n",
        "\n",
        "\u003e\u003e[Example: Greedy Policy](#scrollTo=-JJVVAALqVNQ)\n",
        "\n",
        "\u003e\u003e[Example: Noise Policy](#scrollTo=9S1nuBWWv7hx)\n",
        "\n",
        "\u003e[Wrapping a TFPolicy as a Python Policy](#scrollTo=WgpZtEr2mBML)\n",
        "\n",
        "\u003e[Saving and Restoring Policies (TODO: oars)](#scrollTo=EszYIwrDxJta)\n",
        "\n"
      ]
    },
    {
      "cell_type": "markdown",
      "metadata": {
        "colab_type": "text",
        "id": "f5926O3VkG_p"
      },
      "source": [
        "# Set Up\n",
        "\n",
        "## Launch local runtime\n",
        "\n",
        "To run this colab, you'll need to run your own Jupyter runtime in a Python environment with tf_agents installed. See instructions [here](https://research.google.com/colaboratory/local-runtimes.html).\n",
        "\n",
        "## Imports"
      ]
    },
    {
      "cell_type": "code",
      "execution_count": 0,
      "metadata": {
        "colab": {},
        "colab_type": "code",
        "id": "sdvop99JlYSM"
      },
      "outputs": [],
      "source": [
        "import abc\n",
        "import tensorflow as tf\n",
        "nest = tf.contrib.framework.nest\n",
        "slim = tf.contrib.slim\n",
        "import numpy as np\n",
        "\n",
        "from tf_agents.specs import array_spec\n",
        "from tf_agents.specs import tensor_spec\n",
        "from tf_agents.environments import time_step as ts\n",
        "from tf_agents.networks import network\n",
        "\n",
        "from tf_agents.policies import py_policy\n",
        "from tf_agents.policies import random_py_policy\n",
        "from tf_agents.policies import scripted_py_policy\n",
        "\n",
        "from tf_agents.policies import tf_policy\n",
        "from tf_agents.policies import random_tf_policy\n",
        "from tf_agents.policies import actor_policy\n",
        "from tf_agents.policies import q_policy\n",
        "from tf_agents.policies import greedy_policy\n",
        "from tf_agents.policies import py_tf_policy\n"
      ]
    },
    {
      "cell_type": "markdown",
      "metadata": {
        "colab_type": "text",
        "id": "31uij8nIo5bG"
      },
      "source": [
        "# Introduction"
      ]
    },
    {
      "cell_type": "markdown",
      "metadata": {
        "colab_type": "text",
        "id": "PqFn7q5bs3BF"
      },
      "source": [
        "In Reinforcement Learning terminology, policies map an observation from the environment to an action or a distribution over actions. In TF-Agents, observations from the environment are contained in a named tuple `TimeStep('step_type', 'discount', 'reward', 'observation')`, and policies map timesteps to actions or distributions over actions. Most policies use  `timestep.observation`, some policies use `timestep.step_type` (e.g. to reset the state at the beginning of an episode in stateful policies), but `timestep.discount` and `timestep.reward` are usually ignored.\n",
        "\n",
        "Policies are related to other components in TF-Agents in the following way. Most policies have a neural network to compute actions and/or distributions over actions from TimeSteps. Agents can contain one or more policies for different purposes, e.g. a main policy that is being trained for deployment, and a noisy policy for data collection. Policies can be saved/restored, and can be used indepedently of the agent for data collection, evaluation etc.\n",
        "\n",
        "Some policies are easier to write in Tensorflow (e.g. those with a neural network), whereas others are easier to write in Python (e.g. following a script of actions). So in TF agents, we allow both Python and Tensorflow policies. Morever, policies written in TensorFlow might have to be used in a Python environment, or vice versa, e.g. a TensorFlow policy is used for training but later deployed in a production python environment. To make this easier, we provide wrappers for converting between python and TensorFlow policies.\n",
        "\n",
        "Another interesting class of policies are policy wrappers, which modify a given policy in a certain way, e.g. add a particular type of noise, make a greedy or epsilon-greedy version of a stochastic policy, randomly mix multiple policies etc.  \n",
        "\n",
        "See also:\n",
        "\n",
        "Different ways of running a policy in an environment (TODO: separate colab. Shows in-graph, eager and python data collection/evaluation.)"
      ]
    },
    {
      "cell_type": "markdown",
      "metadata": {
        "colab_type": "text",
        "id": "NyXO5-Aalb-6"
      },
      "source": [
        "# Python Policies"
      ]
    },
    {
      "cell_type": "markdown",
      "metadata": {
        "colab_type": "text",
        "id": "DOtUZ1hs02bu"
      },
      "source": [
        "The interface for Python policies is defined in `policies/py_policy.Base`. The main methods are:\n",
        "\n"
      ]
    },
    {
      "cell_type": "code",
      "execution_count": 0,
      "metadata": {
        "colab": {},
        "colab_type": "code",
        "id": "4PqNEVls1uqc"
      },
      "outputs": [],
      "source": [
        "class Base(object):\n",
        "\n",
        "  @abc.abstractmethod\n",
        "  def __init__(self, time_step_spec, action_spec, policy_state_spec=()):\n",
        "    self._time_step_spec = time_step_spec\n",
        "    self._action_spec = action_spec\n",
        "    self._policy_state_spec = policy_state_spec\n",
        "\n",
        "  @abc.abstractmethod\n",
        "  def reset(self, policy_state=()):\n",
        "    # return initial_policy_state.\n",
        "    pass\n",
        "\n",
        "  @abc.abstractmethod\n",
        "  def action(self, time_step, policy_state=()):\n",
        "    # return a PolicyStep(action, state, info) named tuple.\n",
        "    pass\n",
        "\n",
        "  @abc.abstractmethod\n",
        "  def distribution(self, time_step, policy_state=()):\n",
        "    # Not implemented in python, only for TF policies.\n",
        "    pass\n",
        "\n",
        "  @abc.abstractmethod\n",
        "  def update(self, policy):\n",
        "    # update self to be similar to the input `policy`.\n",
        "    pass\n",
        "\n",
        "  @abc.abstractmethod\n",
        "  def copy(self):\n",
        "    # return a copy of self.\n",
        "    pass\n",
        "\n",
        "  @property\n",
        "  def time_step_spec(self):\n",
        "    return self._time_step_spec\n",
        "\n",
        "  @property\n",
        "  def action_spec(self):\n",
        "    return self._action_spec\n",
        "\n",
        "  @property\n",
        "  def policy_state_spec(self):\n",
        "    return self._policy_state_spec"
      ]
    },
    {
      "cell_type": "markdown",
      "metadata": {
        "colab_type": "text",
        "id": "16kyDKk65bka"
      },
      "source": [
        "The most important method is `action(time_step)` which maps a `time_step` containing an observation from the environment to a PolicyStep named tuple containing the following attributes:\n",
        "\n",
        "*  `action`: The action to be applied to the environment.\n",
        "*  `state`: The state of the policy (e.g. RNN state) to be fed into the next call to action.\n",
        "*  `info`: Optional side information such as action log probabilities.\n",
        "\n",
        "TODO: Add examples of stateful policies, and explain `state` and `info` in more detail.\n",
        "\n",
        "The `time_step_spec` and `action_spec` are specifications for the input time step and the output action. Policies also have a `reset` function which is typically used for resetting the state in stateful policies. The `copy` function returns a copy of `self` and the `update(new_policy)` function updates `self` towards `new_policy`.\n",
        "\n",
        "Now, let us look at a couple of examples of python policies.\n"
      ]
    },
    {
      "cell_type": "markdown",
      "metadata": {
        "colab_type": "text",
        "id": "YCH1Hs_WlmDT"
      },
      "source": [
        "## Example 1: Random Python Policy"
      ]
    },
    {
      "cell_type": "markdown",
      "metadata": {
        "colab_type": "text",
        "id": "lbnQ0BQ3_0N2"
      },
      "source": [
        "A simple example of a `PyPolicy` is the `RandomPyPolicy` which generates random actions for the discrete/continuous given action_spec. The input `time_step` is ignored."
      ]
    },
    {
      "cell_type": "code",
      "execution_count": 0,
      "metadata": {
        "colab": {},
        "colab_type": "code",
        "id": "QX8M4Nl-_0uu"
      },
      "outputs": [],
      "source": [
        "action_spec = array_spec.BoundedArraySpec((2,), np.int32, -10, 10)\n",
        "# Is there a way to avoid `my` in the variable names?\n",
        "my_random_py_policy = random_py_policy.RandomPyPolicy(time_step_spec=None,\n",
        "    action_spec=action_spec)\n",
        "time_step = None\n",
        "action_step = my_random_py_policy.action(time_step)\n",
        "print(action_step)\n",
        "action_step = my_random_py_policy.action(time_step)\n",
        "print(action_step)"
      ]
    },
    {
      "cell_type": "markdown",
      "metadata": {
        "colab_type": "text",
        "id": "B8WrFOR1lz31"
      },
      "source": [
        "## Example 2: Scripted Python Policy"
      ]
    },
    {
      "cell_type": "markdown",
      "metadata": {
        "colab_type": "text",
        "id": "AJ0Br1lGBnTT"
      },
      "source": [
        "A scripted policy plays back a script of actions represented as a list of `(num_repeats, action)` tuples. Every time the `action` function is called, it returns the next action from the list until the specified number of repeats is done, and then moves on to the next action in the list. The `reset` method can be called to start executing from the beginning of the list."
      ]
    },
    {
      "cell_type": "code",
      "execution_count": 0,
      "metadata": {
        "colab": {},
        "colab_type": "code",
        "id": "_mZ244m4BUYv"
      },
      "outputs": [],
      "source": [
        "action_spec = array_spec.BoundedArraySpec((2,), np.int32, -10, 10)\n",
        "action_script = [(1, np.array([5, 2], dtype=np.int32)), \n",
        "                 (0, np.array([0, 0], dtype=np.int32)), # Setting `num_repeates` to 0 will skip this action.\n",
        "                 (2, np.array([1, 2], dtype=np.int32)), \n",
        "                 (1, np.array([3, 4], dtype=np.int32))]\n",
        "\n",
        "my_scripted_py_policy = scripted_py_policy.ScriptedPyPolicy(\n",
        "    time_step_spec=None, action_spec=action_spec, action_script=action_script)\n",
        "\n",
        "policy_state = my_scripted_py_policy.get_initial_state()\n",
        "time_step = None\n",
        "print('Executing scripted policy...')\n",
        "action_step = my_scripted_py_policy.action(time_step, policy_state)\n",
        "print(action_step)\n",
        "action_step= my_scripted_py_policy.action(time_step, action_step.state)\n",
        "print(action_step)\n",
        "action_step = my_scripted_py_policy.action(time_step, action_step.state)\n",
        "print(action_step)\n",
        "\n",
        "print('Resetting my_scripted_py_policy...')\n",
        "policy_state = my_scripted_py_policy.get_initial_state()\n",
        "action_step = my_scripted_py_policy.action(time_step, policy_state)\n",
        "print(action_step)"
      ]
    },
    {
      "cell_type": "markdown",
      "metadata": {
        "colab_type": "text",
        "id": "3Dz7HSTZl6aU"
      },
      "source": [
        "# TensorFlow Policies"
      ]
    },
    {
      "cell_type": "markdown",
      "metadata": {
        "colab_type": "text",
        "id": "LwcoBXqKl8Yb"
      },
      "source": [
        "TensorFlow policies follow the same interface as Python policies. Let us look at a few examples."
      ]
    },
    {
      "cell_type": "markdown",
      "metadata": {
        "colab_type": "text",
        "id": "3x8pDWEFrQ5C"
      },
      "source": [
        "## Example 1: Random TF Policy\n",
        "\n",
        "A RandomTFPolicy can be used to generate random actions according to a given discrete/continuous `action_spec`. The input `time_step` is ignored.\n",
        "\n"
      ]
    },
    {
      "cell_type": "code",
      "execution_count": 0,
      "metadata": {
        "colab": {},
        "colab_type": "code",
        "id": "nZ3pe5G4rjrW"
      },
      "outputs": [],
      "source": [
        "action_spec = tensor_spec.BoundedTensorSpec(\n",
        "    (2,), tf.float32, minimum=-1, maximum=3)\n",
        "observation_spec = tensor_spec.TensorSpec((2,), tf.float32)\n",
        "time_step_spec = ts.time_step_spec(observation_spec)\n",
        "\n",
        "my_random_tf_policy = random_tf_policy.RandomTFPolicy(\n",
        "    action_spec=action_spec, time_step_spec=time_step_spec)\n",
        "observation = tf.ones(time_step_spec.observation.shape)\n",
        "time_step = ts.restart(observation)\n",
        "action_step = my_random_tf_policy.action(time_step)\n",
        "\n",
        "with tf.Session() as sess:\n",
        "  print(action_step)\n",
        "  # Generate an action\n",
        "  print(sess.run(action_step))\n",
        "  # Generate a different action\n",
        "  print(sess.run(action_step))"
      ]
    },
    {
      "cell_type": "markdown",
      "metadata": {
        "colab_type": "text",
        "id": "GOBoWETprWCB"
      },
      "source": [
        "## Example 2: Actor Policy\n",
        "\n",
        "An actor policy can be created using either a network that maps `time_steps` to actions or a network that maps `time_steps` to distributions over actions.\n"
      ]
    },
    {
      "cell_type": "markdown",
      "metadata": {
        "colab_type": "text",
        "id": "2S94E5zQgge_"
      },
      "source": [
        "### Using an action network"
      ]
    },
    {
      "cell_type": "markdown",
      "metadata": {
        "colab_type": "text",
        "id": "X2LM5STNgv1u"
      },
      "source": [
        "Let us define a network as follows:"
      ]
    },
    {
      "cell_type": "code",
      "execution_count": 0,
      "metadata": {
        "colab": {},
        "colab_type": "code",
        "id": "S2wFgzJFteQX"
      },
      "outputs": [],
      "source": [
        "def action_net(time_steps, action_spec):\n",
        "  # TODO: see if it is possible to remove action_spec from networks b/84009124\n",
        "  actions = slim.fully_connected(\n",
        "      time_steps.observation,\n",
        "      action_spec.shape.num_elements(),\n",
        "      activation_fn=tf.nn.tanh)\n",
        "  actions = tf.reshape(actions, [-1] + action_spec.shape.as_list())\n",
        "\n",
        "  # Scale and shift actions to the correct range if necessary.\n",
        "  return actions"
      ]
    },
    {
      "cell_type": "markdown",
      "metadata": {
        "colab_type": "text",
        "id": "k7fIn-ybVdC6"
      },
      "source": [
        "In TensorFlow most network layers are designed for batch operations, so we expect the input time_steps to be batched, and the output of the network will be batched as well. Also the network is responsible for producing actions in the correct range of the given action_spec. This is conventionally done using e.g. a tanh activation for the final layer to produce actions in [-1, 1] and then scaling and shifting this to the correct range as the input action_spec (e.g. see `tf_agents/agents/ddpg/networks.actor_network()`).\n",
        "\n",
        "Now, we an create an actor policy using the above network."
      ]
    },
    {
      "cell_type": "code",
      "execution_count": 0,
      "metadata": {
        "colab": {},
        "colab_type": "code",
        "id": "0UGmFTe7a5VQ"
      },
      "outputs": [],
      "source": [
        "observation_spec = tensor_spec.TensorSpec((4,), tf.float32)\n",
        "time_step_spec = ts.time_step_spec(observation_spec)\n",
        "action_spec = tensor_spec.BoundedTensorSpec((3,), \n",
        "                                            tf.float32, \n",
        "                                            minimum=-1,\n",
        "                                            maximum=1)\n",
        "\n",
        "my_actor_policy = actor_policy.ActorPolicy(time_step_spec=time_step_spec, \n",
        "                                  action_spec=action_spec, \n",
        "                                  actor_network=action_net)"
      ]
    },
    {
      "cell_type": "markdown",
      "metadata": {
        "colab_type": "text",
        "id": "xlmGPTAmfPK3"
      },
      "source": [
        "We can apply it to any batch of time_steps that follow time_step_spec:"
      ]
    },
    {
      "cell_type": "code",
      "execution_count": 0,
      "metadata": {
        "colab": {},
        "colab_type": "code",
        "id": "fvsIsR0VfOA4"
      },
      "outputs": [],
      "source": [
        "batch_size = 2\n",
        "observations = tf.ones([2] + time_step_spec.observation.shape.as_list())\n",
        "\n",
        "# TODO: Why doesn't restart infer batch_size from observations?\n",
        "time_step = ts.restart(observations, batch_size)\n",
        "\n",
        "action_step = my_actor_policy.action(time_step)\n",
        "distribution_step = my_actor_policy.distribution(time_step)\n",
        "print('Action distribution:')\n",
        "print(distribution_step)\n",
        "\n",
        "with tf.Session() as sess:\n",
        "  sess.run(tf.global_variables_initializer())\n",
        "  print('Action:')\n",
        "  print(sess.run(action_step))\n",
        "  print('Another action (same because it is deterministic):')\n",
        "  print(sess.run(action_step))"
      ]
    },
    {
      "cell_type": "markdown",
      "metadata": {
        "colab_type": "text",
        "id": "lumtyhejZOXR"
      },
      "source": [
        "In the above example, we created the policy using an action network that produces an action tensor. In this case, `policy.distribution(time_step)` is a deterministic (delta) distribution around the output of `policy.action(time_step)`. One way to produce a stochastic policy is to wrap the actor policy in a policy wrapper that adds noise to the actions (see XXX). Another way is to create the actor policy using an action distribution network instead of an action network as shown below."
      ]
    },
    {
      "cell_type": "markdown",
      "metadata": {
        "colab_type": "text",
        "id": "_eNrJ5gKgl3W"
      },
      "source": [
        "### Using an action distribution network"
      ]
    },
    {
      "cell_type": "code",
      "execution_count": 0,
      "metadata": {
        "colab": {},
        "colab_type": "code",
        "id": "sSYzC9LobVsK"
      },
      "outputs": [],
      "source": [
        "def action_distribution_net(time_steps, action_spec):\n",
        "\n",
        "  action_means = slim.fully_connected(\n",
        "      time_steps.observation,\n",
        "      action_spec.shape.num_elements(),\n",
        "      activation_fn=tf.nn.tanh)\n",
        "  action_means = tf.reshape(action_means, [-1] + action_spec.shape.as_list())\n",
        "  action_stds = tf.ones_like(action_means)\n",
        "  return tf.distributions.Normal(action_means, action_stds)\n",
        "\n",
        "\n",
        "my_actor_policy = actor_policy.ActorPolicy(\n",
        "    time_step_spec=time_step_spec,\n",
        "    action_spec=action_spec,\n",
        "    actor_network=action_distribution_net)\n",
        "\n",
        "action_step = my_actor_policy.action(time_step)\n",
        "distribution_step = my_actor_policy.distribution(time_step)\n",
        "print('Action distribution:')\n",
        "print(distribution_step)\n",
        "\n",
        "with tf.Session() as sess:\n",
        "  sess.run(tf.global_variables_initializer())\n",
        "  print('Action:')\n",
        "  print(sess.run(action_step))\n",
        "  print('Another action (different, but sampled from the same distribution):')\n",
        "  print(sess.run(action_step))"
      ]
    },
    {
      "cell_type": "markdown",
      "metadata": {
        "colab_type": "text",
        "id": "BzoNGJnlibtz"
      },
      "source": [
        "Note that in the above, actions are clipped to the range of the given action spec [-1, 1]. This is because a constructor argument of ActorPolicy clip=True by default. Setting this to false will return unclipped actions produced by the network. "
      ]
    },
    {
      "cell_type": "markdown",
      "metadata": {
        "colab_type": "text",
        "id": "PLj6A-5domNG"
      },
      "source": [
        "Stochastic policies can be converted to deterministic policies using, for example, a GreedyPolicy wrapper which chooses `stochastic_policy.distribution().mode()` as its action, and a deterministic/delta distribution around this greedy action as its `distribution()`."
      ]
    },
    {
      "cell_type": "markdown",
      "metadata": {
        "colab_type": "text",
        "id": "4Xxzo2a7rZ7v"
      },
      "source": [
        "## Example 3: Q Policy"
      ]
    },
    {
      "cell_type": "markdown",
      "metadata": {
        "colab_type": "text",
        "id": "79eGLqpOhQVp"
      },
      "source": [
        "A Q policy is used in agents like DQN and is based on a Q network that predicts a Q value for each discrete action. For a given time step, the action distribution in the Q Policy is a categorical distribution created using the q values as logits.\n",
        "\n"
      ]
    },
    {
      "cell_type": "code",
      "execution_count": 0,
      "metadata": {
        "colab": {},
        "colab_type": "code",
        "id": "Haakr2VvjqKC"
      },
      "outputs": [],
      "source": [
        "observation_spec = tensor_spec.TensorSpec((4,), tf.float32)\n",
        "time_step_spec = ts.time_step_spec(observation_spec)\n",
        "action_spec = tensor_spec.BoundedTensorSpec((1,),\n",
        "                                            tf.int32,\n",
        "                                            minimum=-1,\n",
        "                                            maximum=1)\n",
        "num_actions = action_spec.maximum - action_spec.minimum + 1\n",
        "\n",
        "\n",
        "class QNetwork(network.Network):\n",
        "\n",
        "  def __init__(self, observation_spec, action_spec, num_actions=2, name=None):\n",
        "    super(QNetwork, self).__init__(\n",
        "        observation_spec=observation_spec,\n",
        "        action_spec=action_spec,\n",
        "        state_spec=(),\n",
        "        name=name)\n",
        "    self._layers.append(tf.keras.layers.Dense(num_actions))\n",
        "\n",
        "  def call(self, inputs, unused_step_type=None, network_state=()):\n",
        "    inputs = tf.cast(inputs, tf.float32)\n",
        "    for layer in self.layers:\n",
        "      inputs = layer(inputs)\n",
        "    return inputs, network_state\n",
        "\n",
        "\n",
        "batch_size = 2\n",
        "observation = tf.ones([batch_size] + time_step_spec.observation.shape.as_list())\n",
        "time_steps = ts.restart(observation, batch_size=batch_size)\n",
        "\n",
        "my_q_network = QNetwork(\n",
        "    observation_spec=observation_spec,\n",
        "    action_spec=action_spec)\n",
        "my_q_policy = q_policy.QPolicy(\n",
        "    time_step_spec, action_spec, q_network=my_q_network)\n",
        "action_step = my_q_policy.action(time_steps)\n",
        "distribution_step = my_q_policy.distribution(time_steps)\n",
        "print('Action distribution:')\n",
        "print(distribution_step)\n",
        "\n",
        "with tf.Session() as sess:\n",
        "  sess.run(tf.global_variables_initializer())\n",
        "  print('Action:')\n",
        "  print(sess.run(action_step))"
      ]
    },
    {
      "cell_type": "markdown",
      "metadata": {
        "colab_type": "text",
        "id": "Xpu9m6mvqJY-"
      },
      "source": [
        "# Policy Wrappers"
      ]
    },
    {
      "cell_type": "markdown",
      "metadata": {
        "colab_type": "text",
        "id": "OfaUrqRAoigk"
      },
      "source": [
        "A policy wrapper can be used to wrap and modify a given policy, e.g. add noise. Policy wrappers are a subclass of Policy (Python/TensorFlow) and can therefore be used just like any other policy. "
      ]
    },
    {
      "cell_type": "markdown",
      "metadata": {
        "colab_type": "text",
        "id": "-JJVVAALqVNQ"
      },
      "source": [
        "## Example: Greedy Policy\n",
        "\n",
        "\n",
        "A greedy wrapper can be used to wrap any TensorFlow policy that implements `distribution()`. `GreedyPolicy.action()` will return `wrapped_policy.distribution().mode()` and `GreedyPolicy.distribution()` is a deterministic/delta distribution around `GreedyPolicy.action()`:"
      ]
    },
    {
      "cell_type": "code",
      "execution_count": 0,
      "metadata": {
        "colab": {},
        "colab_type": "code",
        "id": "xsRPBeLZtXvu"
      },
      "outputs": [],
      "source": [
        "my_greedy_policy = greedy_policy.GreedyPolicy(my_q_policy)\n",
        "\n",
        "action_step = my_greedy_policy.action(time_steps)\n",
        "distribution_step = my_greedy_policy.distribution(time_steps)\n",
        "print('action distribution:')\n",
        "print(distribution_step)\n",
        "\n",
        "with tf.Session() as sess:\n",
        "  sess.run(tf.global_variables_initializer())\n",
        "  print('action:')\n",
        "  print(sess.run(action_step))"
      ]
    },
    {
      "cell_type": "markdown",
      "metadata": {
        "colab_type": "text",
        "id": "9S1nuBWWv7hx"
      },
      "source": [
        "## Example: Noise Policy\n",
        "\n"
      ]
    },
    {
      "cell_type": "markdown",
      "metadata": {
        "colab_type": "text",
        "id": "v4apnYjbzd1Q"
      },
      "source": [
        "TODO: Either use the existing OUNoise policy (a little complex and out of the blue) or implement a simpler noise policy."
      ]
    },
    {
      "cell_type": "markdown",
      "metadata": {
        "colab_type": "text",
        "id": "aO2SLKMev_QI"
      },
      "source": [
        "For other common examples of wrappers see:\n",
        "1. EpsilonGreedyPolicy: Like Greedy policy, but sometimes (with probability epsilon) chooses a random action.\n",
        "2. MixturePolicy: Takes a list of policies and generates an action from one of these at random."
      ]
    },
    {
      "cell_type": "markdown",
      "metadata": {
        "colab_type": "text",
        "id": "WgpZtEr2mBML"
      },
      "source": [
        "\n",
        "# Wrapping a TFPolicy as a Python Policy"
      ]
    },
    {
      "cell_type": "markdown",
      "metadata": {
        "colab_type": "text",
        "id": "BJ8ApdrO-qF8"
      },
      "source": [
        "Most policies are written in TensorFlow because they contain one or more networks to be trained. However, we may still need to use these policies in a python environment, e.g. to collect data, deployment or evaluation. The PyTFPolicy class can be used to wrap any TF policy as a PyPolicy object."
      ]
    },
    {
      "cell_type": "code",
      "execution_count": 0,
      "metadata": {
        "colab": {},
        "colab_type": "code",
        "id": "Tc96-0Sb0eX_"
      },
      "outputs": [],
      "source": [
        "my_py_tf_policy = py_tf_policy.PyTFPolicy(my_random_tf_policy)\n",
        "\n",
        "observation = np.array([3, 4])\n",
        "time_step = ts.restart(observation)\n",
        "\n",
        "my_py_tf_policy.session = tf.Session()\n",
        "action_step = my_py_tf_policy.action(time_step)\n",
        "\n",
        "print('action:')\n",
        "print(action_step)"
      ]
    },
    {
      "cell_type": "markdown",
      "metadata": {
        "colab_type": "text",
        "id": "iGyfO34AwYP_"
      },
      "source": [
        "Another way to use TensorFlow policies in python is to save the TF policies as checkpoints and load them as a PyTFCheckpointPolicy. See saving and restoring policies for more details."
      ]
    },
    {
      "cell_type": "markdown",
      "metadata": {
        "colab_type": "text",
        "id": "EszYIwrDxJta"
      },
      "source": [
        "# Saving and Restoring Policies (TODO: oars)"
      ]
    },
    {
      "cell_type": "markdown",
      "metadata": {
        "colab_type": "text",
        "id": "Xh2vcLRnAbVe"
      },
      "source": [
        ""
      ]
    }
  ],
  "metadata": {
    "colab": {
      "collapsed_sections": [],
      "name": "Policies Tutorial.ipynb",
      "provenance": [],
      "version": "0.3.2"
    }
  },
  "nbformat": 4,
  "nbformat_minor": 0
}
