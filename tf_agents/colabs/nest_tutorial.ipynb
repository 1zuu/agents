{
 "cells": [
  {
   "cell_type": "markdown",
   "metadata": {
    "colab_type": "text",
    "id": "BSeKG-5bBXsv"
   },
   "source": [
    "# Nest Tutorial\n",
    "tf.contrib.framework.nest is a utility library that packs/flattens arbitary nested structures. A nested structure is a Python sequence, tuple (including `namedtuple`), or dict that can contain\n",
    "further sequences, tuples, and dicts. The utilities here assume (and do not check) that the nested structures form a 'tree'.\n",
    "\n",
    "For example, if you have a robot with two types of sensor inputs, you might want to structure the sensor inputs in a named tuple like collections.namedtuple('SensorInputs', 'input_1', 'input_2'). Then feed it into some machine learning system as input. But cetrain machine learning libraries (TensorFlow) takes only array as inputs, and therefore requires the user to pack/flatten the data themselves. Nest abstracts away this kind of tedious work, so user can focus on the application logic.\n",
    "\n",
    "Below we provide three examples to illustarte the usages of nest:\n",
    "\n",
    "\n",
    "1. Using nest pack/flatten nested structure\n",
    "2. Using nest to augment py_func to handle structured input/output. \n",
    "\n",
    "\n",
    "\n"
   ]
  },
  {
   "cell_type": "markdown",
   "metadata": {
    "colab_type": "text",
    "id": "NhZ9DvaAGn6z"
   },
   "source": [
    "# nest takes array, tuple, dict as input"
   ]
  },
  {
   "cell_type": "code",
   "execution_count": 0,
   "metadata": {
    "colab": {},
    "colab_type": "code",
    "id": "oZWf6rAo-WpY"
   },
   "outputs": [],
   "source": [
    "import numpy as np\n",
    "import tensorflow as tf\n",
    "nest = tf.contrib.framework.nest\n",
    "import unittest\n",
    "import collections"
   ]
  },
  {
   "cell_type": "code",
   "execution_count": 0,
   "metadata": {
    "colab": {},
    "colab_type": "code",
    "id": "cMsUCCSUFZKD"
   },
   "outputs": [],
   "source": [
    "class NestInputTest(unittest.TestCase):\n",
    "\n",
    "  def testNestFlattensArray(self):\n",
    "    self.assertEquals(nest.flatten([[1, 2, 3], [4, 5]]), [1, 2, 3, 4, 5])\n",
    "\n",
    "  def testNestFlattensDict(self):\n",
    "    self.assertEquals(nest.flatten({'key_1': 1, 'key_2': 2}), [1, 2])\n",
    "\n",
    "  def testNestFlattensTuple(self):\n",
    "    self.assertEquals(nest.flatten((1, 2)), [1, 2])\n",
    "\n",
    "  def testNestFlattensNamedTuple(self):\n",
    "    NamedTuple = collections.namedtuple('NamedTuple', 'str_attr int_attr')\n",
    "    self.assertEquals(\n",
    "        nest.flatten(NamedTuple(str_attr='1', int_attr=2)), ['1', 2])\n",
    "\n",
    "  def testNestPacksSequences(self):\n",
    "    packed_sequence = nest.pack_sequence_as(([None, None], (None,)), [1, 2, 3])\n",
    "    self.assertEquals(packed_sequence, ([1, 2], (3,)))\n",
    "\n",
    "\n",
    "suite = unittest.TestLoader().loadTestsFromTestCase(NestInputTest)\n",
    "unittest.TextTestRunner().run(suite)"
   ]
  },
  {
   "cell_type": "markdown",
   "metadata": {
    "colab_type": "text",
    "id": "IBVE6Z4VRIp7"
   },
   "source": [
    "Below we look at a more complex example where we use nest.map_structure to transform inputs.\n"
   ]
  },
  {
   "cell_type": "code",
   "execution_count": 0,
   "metadata": {
    "colab": {},
    "colab_type": "code",
    "id": "omglRglpOQGJ"
   },
   "outputs": [],
   "source": [
    "class NestMapStructureTest(tf.test.TestCase):\n",
    "\n",
    "  def testAddTensors(self):\n",
    "    add_op = nest.map_structure(lambda x, y: x + y, tf.constant(1),\n",
    "                                tf.constant(1))\n",
    "    with self.test_session() as sess:\n",
    "      self.assertEquals(add_op.eval(), 2)\n",
    "\n",
    "  def testGroupTuplesByElement(self):\n",
    "    grouped = nest.map_structure(lambda *arr: arr, ('a', 'b', ('c', 'd')),\n",
    "                                 (3, 4, (5, 6)), (False, True, (True, True)))\n",
    "    np.testing.assert_equal(grouped, (('a', 3, False), ('b', 4, True),\n",
    "                                      (('c', 5, True), ('d', 6, True))))\n",
    "\n",
    "\n",
    "suite = unittest.TestLoader().loadTestsFromTestCase(NestMapStructureTest)\n",
    "unittest.TextTestRunner().run(suite)"
   ]
  },
  {
   "cell_type": "markdown",
   "metadata": {
    "colab_type": "text",
    "id": "k8549QwGo5_A"
   },
   "source": [
    "# Using nest to work with structured input/output with py_func\n",
    "py_func only takes arrays as input and output, so nest is very useful when we want to process structured input and output with py_func.\n",
    "Below is an example that adds three numbers together and returns the sum and list of original operands.\n"
   ]
  },
  {
   "cell_type": "code",
   "execution_count": 0,
   "metadata": {
    "colab": {},
    "colab_type": "code",
    "id": "TvkttfPk7lsn"
   },
   "outputs": [],
   "source": [
    "# define input/output structures\n",
    "input_structure = {'input1': (None, None), 'input2': {'num3': None}}\n",
    "output_structure = {'num1': None, 'num2': None, 'num3': None, 'sum': None}\n",
    "\n",
    "\n",
    "def adds(*arg):\n",
    "  # input is a flat list; pack it back to structured data\n",
    "  packed_input = nest.pack_sequence_as(input_structure, arg)\n",
    "  num1, num2 = packed_input['input1']\n",
    "  num3 = packed_input['input2']['num3']\n",
    "\n",
    "  # return a flat list\n",
    "  return [num1, num2, num3, num1 + num2 + num3]\n",
    "\n",
    "\n",
    "with tf.Graph().as_default():\n",
    "  inputs = {\n",
    "      'input1': (tf.constant(1), tf.constant(2)),\n",
    "      'input2': {\n",
    "          'num3': tf.constant(3)\n",
    "      }\n",
    "  }\n",
    "\n",
    "  # call py_func with structured inputs\n",
    "  flat_result = tf.py_func(adds, nest.flatten(inputs),\n",
    "                           [tf.int32, tf.int32, tf.int32, tf.int32])\n",
    "\n",
    "  # pack the result into structured tensors\n",
    "  nest_result = nest.pack_sequence_as(output_structure, flat_result)\n",
    "\n",
    "  tf_num1 = nest_result['num1']\n",
    "  tf_num2 = nest_result['num2']\n",
    "  tf_num3 = nest_result['num3']\n",
    "  tf_sum = nest_result['sum']\n",
    "\n",
    "  with tf.Session() as sess:\n",
    "    # verify it all works\n",
    "    np.testing.assert_equal(\n",
    "        sess.run([tf_num1, tf_num2, tf_num3, tf_sum]), [1, 2, 3, 6])"
   ]
  }
 ],
 "metadata": {
  "colab": {
   "collapsed_sections": [
    "BSeKG-5bBXsv"
   ],
   "default_view": {},
   "name": "nest_tutorial.ipynb",
   "version": "0.3.2"
  }
 },
 "nbformat": 4,
 "nbformat_minor": 0
}
